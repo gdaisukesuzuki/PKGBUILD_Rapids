{
 "cells": [
  {
   "cell_type": "markdown",
   "metadata": {},
   "source": [
    "# RAPIDS cuML \n",
    "## Performance, Boundaries, and Correctness Benchmarks\n",
    "\n",
    "**Description:** This notebook provides a simple and unified means of benchmarking single GPU cuML algorithms against their skLearn counterparts with the `cuml.benchmark` package in RAPIDS cuML. This enables quick and simple measurements of performance, validation of correctness, and investigation of upper bounds.\n",
    "\n",
    "Each benchmark returns a Pandas `DataFrame` with the results. At the end of the notebook, these results are used to draw charts and output to a CSV file. \n",
    "\n",
    "Please refer to the [table of contents](#table_of_contents) for algorithms available to be benchmarked with this notebook."
   ]
  },
  {
   "cell_type": "code",
   "execution_count": 1,
   "metadata": {},
   "outputs": [
    {
     "name": "stdout",
     "output_type": "stream",
     "text": [
      "2020-06-07 23:09:29.786858\n",
      "0.15.0a+386.ga58244da5.dirty\n"
     ]
    }
   ],
   "source": [
    "import datetime\n",
    "print(datetime.datetime.now())\n",
    "import cuml\n",
    "import pandas as pd\n",
    "\n",
    "from cuml.benchmark.runners import SpeedupComparisonRunner\n",
    "from cuml.benchmark.algorithms import algorithm_by_name\n",
    "\n",
    "import warnings\n",
    "warnings.filterwarnings('ignore', 'Expected column ')\n",
    "\n",
    "print(cuml.__version__)"
   ]
  },
  {
   "cell_type": "code",
   "execution_count": 2,
   "metadata": {},
   "outputs": [],
   "source": [
    "N_REPS = 3  # Number of times each test is repeated\n",
    "\n",
    "DATA_NEIGHBORHOODS = \"blobs\"\n",
    "DATA_CLASSIFICATION = \"classification\"\n",
    "DATA_REGRESSION = \"regression\"\n",
    "\n",
    "INPUT_TYPE = \"numpy\"\n",
    "\n",
    "benchmark_results = []"
   ]
  },
  {
   "cell_type": "code",
   "execution_count": 3,
   "metadata": {},
   "outputs": [],
   "source": [
    "SSMALL_ROW_SIZES = [2**x for x in range(11, 14)]\n",
    "SMALL_ROW_SIZES = [2**x for x in range(14, 17)]\n",
    "LARGE_ROW_SIZES = [2**x for x in range(18, 24, 2)]\n",
    "\n",
    "SSKINNY_FEATURES = [8, 32]\n",
    "SKINNY_FEATURES = [32, 256]\n",
    "WIDE_FEATURES = [1000, 10000]\n",
    "\n",
    "VERBOSE=True\n",
    "RUN_CPU=True"
   ]
  },
  {
   "cell_type": "code",
   "execution_count": 4,
   "metadata": {},
   "outputs": [
    {
     "name": "stdout",
     "output_type": "stream",
     "text": [
      "2020-06-07 23:09:33.041344\n"
     ]
    }
   ],
   "source": [
    "def enrich_result(algorithm, runner, result):\n",
    "    result[\"algo\"] = algorithm\n",
    "    result[\"dataset_name\"] = runner.dataset_name\n",
    "    result[\"input_type\"] = runner.input_type\n",
    "    return result\n",
    "\n",
    "def execute_benchmark(algorithm, runner, verbose=VERBOSE, run_cpu=RUN_CPU, **kwargs):\n",
    "    results = runner.run(algorithm_by_name(algorithm), verbose=verbose, run_cpu=run_cpu, **kwargs)\n",
    "    results = [enrich_result(algorithm, runner, result) for result in results]\n",
    "    benchmark_results.extend(results)\n",
    "    \n",
    "print(datetime.datetime.now())\n"
   ]
  },
  {
   "cell_type": "markdown",
   "metadata": {},
   "source": [
    "## Table of Contents<a id=\"table_of_contents\"/>\n",
    "\n",
    "### Benchmarks\n",
    "1. [Neighbors](#neighbors)<br>\n",
    "    1.1 [Nearest Neighbors - Brute Force](#nn_bruteforce)<br>\n",
    "    1.2 [KNeighborsClassifier](#kneighborsclassifier)<br>\n",
    "    1.3 [KNeighborsRegressor](#kneighborsregressor)<br>\n",
    "2. [Clustering](#clustering)<br>\n",
    "    2.1 [DBSCAN - Brute Force](#dbscan_bruteforce)<br>\n",
    "    2.2 [K-Means](#kmeans)<br>\n",
    "3. [Manifold Learning](#manifold_learning)<br>\n",
    "    3.1 [UMAP - Unsupervised](#umap_unsupervised)<br>\n",
    "    3.2 [UMAP - Supervised](#umap_supervised)<br>\n",
    "    3.3 [T-SNE](#tsne)<br>\n",
    "4. [Linear Models](#linear_models)<br>\n",
    "    4.1 [Linear Regression](#linear_regression)<br>\n",
    "    4.2 [Logistic Regression](#logistic_regression)<br>\n",
    "    4.3 [Ridge Regression](#ridge_regression)<br>\n",
    "    4.4 [Lasso Regression](#lasso_regression)<br>\n",
    "    4.5 [ElasticNet Regression](#elasticnet_regression)<br>\n",
    "    4.6 [Mini-batch SGD Classifier](#minibatch_sgd_classifier)<br>\n",
    "5. [Decomposition](#decomposition)<br>\n",
    "    5.1 [PCA](#pca)<br>\n",
    "    5.2 [Truncated SVD](#truncated_svd)<br>\n",
    "6. [Ensemble](#ensemble)<br>\n",
    "    6.1 [Random Forest Classifier](#random_forest_classifier)<br>\n",
    "    6.2 [Random Forest Regressor](#random_forest_regressor)<br>\n",
    "    6.3 [FIL](#fil)<br>\n",
    "    6.4 [Sparse FIL](#sparse_fil)<br>\n",
    "7. [Random Projection](#random_projection)<br>\n",
    "    7.1 [Gaussian Random Projection](#gaussian_random_projection)<br>\n",
    "    7.2 [Sparse Random Projection](#sparse_random_projection)<br>\n",
    "8. [SVM](#svm)<br>\n",
    "    8.1 [SVC - Linear Kernel](#svc_linear_kernel)<br>\n",
    "    8.2 [SVC - RBF Kernel](#svc_rbf_kernel)<br>\n",
    "    8.3 [SVR - Linear Kernel](#svr_linear_kernel)<br>\n",
    "    8.4 [SVR - RBF Kernel](#svr_rbf_kernel)<br>\n",
    "    \n",
    "### Chart & Store Results\n",
    "9. [Convert to Pandas DataFrame](#convert_to_pandas)<br>\n",
    "10. [Chart Results](#chart_results)<br>\n",
    "11. [Output to CSV](#output_csv)<br>"
   ]
  },
  {
   "cell_type": "markdown",
   "metadata": {},
   "source": [
    "## Neighbors<a id=\"neighbors\"/>\n"
   ]
  },
  {
   "cell_type": "markdown",
   "metadata": {},
   "source": [
    "### Nearest Neighbors - Brute Force<a id=\"nn_bruteforce\"/>"
   ]
  },
  {
   "cell_type": "code",
   "execution_count": 5,
   "metadata": {},
   "outputs": [
    {
     "name": "stdout",
     "output_type": "stream",
     "text": [
      "NearestNeighbors (n_samples=16384, n_features=32) [cpu=8.411670684814453, gpu=0.19838404655456543, speedup=42.40094317513998]\n",
      "NearestNeighbors (n_samples=16384, n_features=256) [cpu=11.560090780258179, gpu=0.20675015449523926, speedup=55.913335631990385]\n",
      "NearestNeighbors (n_samples=32768, n_features=32) [cpu=29.600563526153564, gpu=0.37178516387939453, speedup=79.61738767971886]\n",
      "NearestNeighbors (n_samples=32768, n_features=256) [cpu=39.98840641975403, gpu=0.38399457931518555, speedup=104.13794510086366]\n",
      "NearestNeighbors (n_samples=65536, n_features=32) [cpu=129.5558421611786, gpu=0.7728381156921387, speedup=167.63645520401244]\n",
      "NearestNeighbors (n_samples=65536, n_features=256) [cpu=140.5281355381012, gpu=0.8484342098236084, speedup=165.6323306050063]\n",
      "2020-06-07 23:27:53.673455\n"
     ]
    }
   ],
   "source": [
    "runner = cuml.benchmark.runners.SpeedupComparisonRunner(\n",
    "    bench_rows=SMALL_ROW_SIZES, \n",
    "    bench_dims=SKINNY_FEATURES,\n",
    "    dataset_name=DATA_NEIGHBORHOODS,\n",
    "    input_type=INPUT_TYPE,\n",
    "    n_reps=N_REPS,\n",
    ")\n",
    "\n",
    "execute_benchmark(\"NearestNeighbors\", runner)\n",
    "print(datetime.datetime.now())\n"
   ]
  },
  {
   "cell_type": "markdown",
   "metadata": {},
   "source": [
    "### KNeighborsClassifier<a id=\"kneighborsclassifier\"/>"
   ]
  },
  {
   "cell_type": "code",
   "execution_count": 6,
   "metadata": {},
   "outputs": [
    {
     "name": "stdout",
     "output_type": "stream",
     "text": [
      "KNeighborsClassifier (n_samples=16384, n_features=32) [cpu=0.03699493408203125, gpu=0.0008246898651123047, speedup=44.85920786354438]\n"
     ]
    },
    {
     "name": "stderr",
     "output_type": "stream",
     "text": [
      "/usr/lib/python3.8/site-packages/sklearn/utils/validation.py:68: FutureWarning: Pass n_informative=2 as keyword args. From version 0.25 passing these as positional arguments will result in an error\n",
      "  warnings.warn(\"Pass {} as keyword args. From version 0.25 \"\n",
      "/usr/lib/python3.8/site-packages/sklearn/utils/validation.py:68: FutureWarning: Pass n_informative=2 as keyword args. From version 0.25 passing these as positional arguments will result in an error\n",
      "  warnings.warn(\"Pass {} as keyword args. From version 0.25 \"\n"
     ]
    },
    {
     "name": "stdout",
     "output_type": "stream",
     "text": [
      "KNeighborsClassifier (n_samples=16384, n_features=256) [cpu=0.38063478469848633, gpu=0.002939462661743164, speedup=129.49128072025306]\n"
     ]
    },
    {
     "name": "stderr",
     "output_type": "stream",
     "text": [
      "/usr/lib/python3.8/site-packages/sklearn/utils/validation.py:68: FutureWarning: Pass n_informative=2 as keyword args. From version 0.25 passing these as positional arguments will result in an error\n",
      "  warnings.warn(\"Pass {} as keyword args. From version 0.25 \"\n"
     ]
    },
    {
     "name": "stdout",
     "output_type": "stream",
     "text": [
      "KNeighborsClassifier (n_samples=32768, n_features=32) [cpu=0.08533287048339844, gpu=0.001065969467163086, speedup=80.05188995750392]\n"
     ]
    },
    {
     "name": "stderr",
     "output_type": "stream",
     "text": [
      "/usr/lib/python3.8/site-packages/sklearn/utils/validation.py:68: FutureWarning: Pass n_informative=2 as keyword args. From version 0.25 passing these as positional arguments will result in an error\n",
      "  warnings.warn(\"Pass {} as keyword args. From version 0.25 \"\n"
     ]
    },
    {
     "name": "stdout",
     "output_type": "stream",
     "text": [
      "KNeighborsClassifier (n_samples=32768, n_features=256) [cpu=0.9244289398193359, gpu=0.0053446292877197266, speedup=172.9640897533122]\n"
     ]
    },
    {
     "name": "stderr",
     "output_type": "stream",
     "text": [
      "/usr/lib/python3.8/site-packages/sklearn/utils/validation.py:68: FutureWarning: Pass n_informative=2 as keyword args. From version 0.25 passing these as positional arguments will result in an error\n",
      "  warnings.warn(\"Pass {} as keyword args. From version 0.25 \"\n"
     ]
    },
    {
     "name": "stdout",
     "output_type": "stream",
     "text": [
      "KNeighborsClassifier (n_samples=65536, n_features=32) [cpu=0.21630644798278809, gpu=0.0016965866088867188, speedup=127.4950815064643]\n"
     ]
    },
    {
     "name": "stderr",
     "output_type": "stream",
     "text": [
      "/usr/lib/python3.8/site-packages/sklearn/utils/validation.py:68: FutureWarning: Pass n_informative=2 as keyword args. From version 0.25 passing these as positional arguments will result in an error\n",
      "  warnings.warn(\"Pass {} as keyword args. From version 0.25 \"\n"
     ]
    },
    {
     "name": "stdout",
     "output_type": "stream",
     "text": [
      "KNeighborsClassifier (n_samples=65536, n_features=256) [cpu=2.1808950901031494, gpu=0.00995635986328125, speedup=219.04542624521073]\n",
      "2020-06-07 23:28:06.471181\n"
     ]
    }
   ],
   "source": [
    "runner = cuml.benchmark.runners.SpeedupComparisonRunner(\n",
    "    bench_rows=SMALL_ROW_SIZES, \n",
    "    bench_dims=SKINNY_FEATURES,\n",
    "    dataset_name=DATA_CLASSIFICATION,\n",
    "    input_type=INPUT_TYPE,\n",
    "    n_reps=N_REPS\n",
    ")\n",
    "\n",
    "execute_benchmark(\"KNeighborsClassifier\", runner)\n",
    "print(datetime.datetime.now())\n"
   ]
  },
  {
   "cell_type": "markdown",
   "metadata": {},
   "source": [
    "### KNeighborsRegressor<a id=\"kneighborsregressor\"/>"
   ]
  },
  {
   "cell_type": "code",
   "execution_count": 7,
   "metadata": {},
   "outputs": [
    {
     "name": "stdout",
     "output_type": "stream",
     "text": [
      "KNeighborsRegressor (n_samples=16384, n_features=32) [cpu=0.03651618957519531, gpu=0.0008208751678466797, speedup=44.48446122567528]\n",
      "KNeighborsRegressor (n_samples=16384, n_features=256) [cpu=0.388411283493042, gpu=0.002918720245361328, speedup=133.07588629308935]\n",
      "KNeighborsRegressor (n_samples=32768, n_features=32) [cpu=0.08056020736694336, gpu=0.0010144710540771484, speedup=79.41104582843714]\n",
      "KNeighborsRegressor (n_samples=32768, n_features=256) [cpu=0.9162225723266602, gpu=0.005285739898681641, speedup=173.3385656292287]\n",
      "KNeighborsRegressor (n_samples=65536, n_features=32) [cpu=0.19912958145141602, gpu=0.001689910888671875, speedup=117.83436794582393]\n",
      "KNeighborsRegressor (n_samples=65536, n_features=256) [cpu=2.1807878017425537, gpu=0.009803533554077148, speedup=222.44915975583064]\n",
      "2020-06-07 23:28:19.037981\n"
     ]
    }
   ],
   "source": [
    "runner = cuml.benchmark.runners.SpeedupComparisonRunner(\n",
    "    bench_rows=SMALL_ROW_SIZES, \n",
    "    bench_dims=SKINNY_FEATURES,\n",
    "    dataset_name=DATA_REGRESSION,\n",
    "    input_type=INPUT_TYPE,\n",
    "    n_reps=N_REPS\n",
    ")\n",
    "\n",
    "execute_benchmark(\"KNeighborsRegressor\", runner)\n",
    "print(datetime.datetime.now())\n"
   ]
  },
  {
   "cell_type": "markdown",
   "metadata": {},
   "source": [
    "## Clustering<a id=\"clustering\"/>"
   ]
  },
  {
   "cell_type": "markdown",
   "metadata": {},
   "source": [
    "### DBSCAN - Brute Force<a id=\"dbscan_bruteforce\"/>"
   ]
  },
  {
   "cell_type": "code",
   "execution_count": 8,
   "metadata": {},
   "outputs": [
    {
     "name": "stdout",
     "output_type": "stream",
     "text": [
      "DBSCAN (n_samples=16384, n_features=32) [cpu=1.7481286525726318, gpu=0.022878170013427734, speedup=76.41033577190021]\n",
      "DBSCAN (n_samples=16384, n_features=256) [cpu=1.9368844032287598, gpu=0.06017589569091797, speedup=32.18704733830964]\n",
      "DBSCAN (n_samples=32768, n_features=32) [cpu=6.862695693969727, gpu=0.06801986694335938, speedup=100.89251864729965]\n",
      "DBSCAN (n_samples=32768, n_features=256) [cpu=7.722434997558594, gpu=0.19489383697509766, speedup=39.623802976106006]\n",
      "DBSCAN (n_samples=65536, n_features=32) [cpu=28.028151512145996, gpu=0.23278355598449707, speedup=120.40434468666943]\n",
      "DBSCAN (n_samples=65536, n_features=256) [cpu=31.207054615020752, gpu=0.7382512092590332, speedup=42.271592953220626]\n",
      "2020-06-07 23:32:17.270851\n"
     ]
    }
   ],
   "source": [
    "runner = cuml.benchmark.runners.SpeedupComparisonRunner(\n",
    "    bench_rows=SMALL_ROW_SIZES, \n",
    "    bench_dims=SKINNY_FEATURES,\n",
    "    dataset_name=DATA_NEIGHBORHOODS,\n",
    "    input_type=INPUT_TYPE,\n",
    "    n_reps=N_REPS\n",
    ")\n",
    "\n",
    "execute_benchmark(\"DBSCAN\", runner)\n",
    "print(datetime.datetime.now())\n"
   ]
  },
  {
   "cell_type": "markdown",
   "metadata": {},
   "source": [
    "### K-means Clustering<a id=\"kmeans\"/>"
   ]
  },
  {
   "cell_type": "code",
   "execution_count": 9,
   "metadata": {},
   "outputs": [
    {
     "name": "stdout",
     "output_type": "stream",
     "text": [
      "KMeans (n_samples=16384, n_features=32) [cpu=0.02942967414855957, gpu=0.035991668701171875, speedup=0.8176801801801802]\n",
      "KMeans (n_samples=16384, n_features=256) [cpu=0.11534285545349121, gpu=0.033803462982177734, speedup=3.412160923107306]\n",
      "KMeans (n_samples=32768, n_features=32) [cpu=0.05611681938171387, gpu=0.0757150650024414, speedup=0.7411579106470344]\n",
      "KMeans (n_samples=32768, n_features=256) [cpu=0.22705554962158203, gpu=0.09415578842163086, speedup=2.4114879544614327]\n",
      "KMeans (n_samples=65536, n_features=32) [cpu=0.09079813957214355, gpu=0.11577510833740234, speedup=0.7842630499427508]\n",
      "KMeans (n_samples=65536, n_features=256) [cpu=0.4425392150878906, gpu=0.17146944999694824, speedup=2.580863326357942]\n",
      "2020-06-07 23:32:22.137719\n"
     ]
    }
   ],
   "source": [
    "runner = cuml.benchmark.runners.SpeedupComparisonRunner(\n",
    "    bench_rows=SMALL_ROW_SIZES, \n",
    "    bench_dims=SKINNY_FEATURES,\n",
    "    dataset_name=DATA_NEIGHBORHOODS,\n",
    "    input_type=\"numpy\",\n",
    "    n_reps=N_REPS\n",
    ")\n",
    "\n",
    "execute_benchmark(\"KMeans\", runner)\n",
    "print(datetime.datetime.now())\n"
   ]
  },
  {
   "cell_type": "markdown",
   "metadata": {},
   "source": [
    "## Manifold Learning<a id=\"manifold_learning\"/>"
   ]
  },
  {
   "cell_type": "markdown",
   "metadata": {},
   "source": [
    "### UMAP - Unsupervised<a id=\"umap_unsupervised\"/>\n",
    "CPU benchmark requires UMAP-learn"
   ]
  },
  {
   "cell_type": "code",
   "execution_count": 10,
   "metadata": {},
   "outputs": [
    {
     "name": "stdout",
     "output_type": "stream",
     "text": [
      "UMAP-Unsupervised (n_samples=16384, n_features=1000) [cpu=8.005607843399048, gpu=0.17917346954345703, speedup=44.68076587341718]\n",
      "UMAP-Unsupervised (n_samples=16384, n_features=10000) [cpu=13.712585926055908, gpu=0.5872104167938232, speedup=23.352082207476514]\n",
      "UMAP-Unsupervised (n_samples=32768, n_features=1000) [cpu=15.474644422531128, gpu=0.34097766876220703, speedup=45.38316095217052]\n",
      "UMAP-Unsupervised (n_samples=32768, n_features=10000) [cpu=29.398136615753174, gpu=1.7973408699035645, speedup=16.35646143034099]\n",
      "UMAP-Unsupervised (n_samples=65536, n_features=1000) [cpu=31.28469681739807, gpu=0.8527987003326416, speedup=36.68473791669148]\n",
      "UMAP-Unsupervised (n_samples=65536, n_features=10000) [cpu=65.36163520812988, gpu=5.3792853355407715, speedup=12.15061688144475]\n",
      "2020-06-07 23:41:50.272264\n"
     ]
    }
   ],
   "source": [
    "runner = cuml.benchmark.runners.SpeedupComparisonRunner(\n",
    "    bench_rows=SMALL_ROW_SIZES, \n",
    "    bench_dims=WIDE_FEATURES,\n",
    "    dataset_name=DATA_NEIGHBORHOODS,\n",
    "    input_type=INPUT_TYPE,\n",
    "    n_reps=N_REPS\n",
    ")\n",
    "\n",
    "execute_benchmark(\"UMAP-Unsupervised\", runner)\n",
    "print(datetime.datetime.now())\n"
   ]
  },
  {
   "cell_type": "markdown",
   "metadata": {},
   "source": [
    "### UMAP - Supervised<a id=\"umap_supervised\"/>\n",
    "CPU benchmark requires UMAP-learn"
   ]
  },
  {
   "cell_type": "code",
   "execution_count": 11,
   "metadata": {},
   "outputs": [
    {
     "name": "stdout",
     "output_type": "stream",
     "text": [
      "UMAP-Supervised (n_samples=16384, n_features=1000) [cpu=7.933876276016235, gpu=0.1956186294555664, speedup=40.5578768141731]\n",
      "UMAP-Supervised (n_samples=16384, n_features=10000) [cpu=13.794584274291992, gpu=0.6045188903808594, speedup=22.81911201418556]\n",
      "UMAP-Supervised (n_samples=32768, n_features=1000) [cpu=15.410901308059692, gpu=0.35680365562438965, speedup=43.1915454484101]\n",
      "UMAP-Supervised (n_samples=32768, n_features=10000) [cpu=29.40755319595337, gpu=1.8124403953552246, speedup=16.225390512877922]\n",
      "UMAP-Supervised (n_samples=65536, n_features=1000) [cpu=31.427898168563843, gpu=0.8678419589996338, speedup=36.21384958707338]\n",
      "UMAP-Supervised (n_samples=65536, n_features=10000) [cpu=64.63923859596252, gpu=5.402759790420532, speedup=11.96411484193178]\n",
      "2020-06-07 23:50:32.670752\n"
     ]
    }
   ],
   "source": [
    "runner = cuml.benchmark.runners.SpeedupComparisonRunner(\n",
    "    bench_rows=SMALL_ROW_SIZES, \n",
    "    bench_dims=WIDE_FEATURES,\n",
    "    dataset_name=DATA_NEIGHBORHOODS,\n",
    "    input_type=INPUT_TYPE,\n",
    "    n_reps=N_REPS\n",
    ")\n",
    "\n",
    "execute_benchmark(\"UMAP-Supervised\", runner)\n",
    "print(datetime.datetime.now())\n"
   ]
  },
  {
   "cell_type": "markdown",
   "metadata": {},
   "source": [
    "### T-SNE<a id=\"tsne\"/>"
   ]
  },
  {
   "cell_type": "code",
   "execution_count": 12,
   "metadata": {},
   "outputs": [
    {
     "name": "stdout",
     "output_type": "stream",
     "text": [
      "TSNE (n_samples=2048, n_features=8) [cpu=0.0, gpu=0.5565066337585449, speedup=0.0]\n",
      "TSNE (n_samples=2048, n_features=32) [cpu=0.0, gpu=0.5534675121307373, speedup=0.0]\n",
      "TSNE (n_samples=4096, n_features=8) [cpu=0.0, gpu=0.825035810470581, speedup=0.0]\n",
      "TSNE (n_samples=4096, n_features=32) [cpu=0.0, gpu=0.8221800327301025, speedup=0.0]\n",
      "TSNE (n_samples=8192, n_features=8) [cpu=0.0, gpu=1.1442320346832275, speedup=0.0]\n",
      "TSNE (n_samples=8192, n_features=32) [cpu=0.0, gpu=1.122483730316162, speedup=0.0]\n",
      "2020-06-07 23:50:48.209238\n"
     ]
    }
   ],
   "source": [
    "runner = cuml.benchmark.runners.SpeedupComparisonRunner(\n",
    "    bench_rows=SSMALL_ROW_SIZES, \n",
    "    bench_dims=SSKINNY_FEATURES, \n",
    "    dataset_name=DATA_NEIGHBORHOODS,\n",
    "    input_type=INPUT_TYPE,\n",
    "    n_reps=N_REPS\n",
    ")\n",
    "\n",
    "\n",
    "# Due to extreme high runtime, the CPU benchmark \n",
    "# is disabled. Use run_cpu=True to re-enable. \n",
    "\n",
    "execute_benchmark(\"TSNE\", runner, run_cpu=False)\n",
    "print(datetime.datetime.now())\n"
   ]
  },
  {
   "cell_type": "markdown",
   "metadata": {},
   "source": [
    "## Linear Models<a id=\"linear_models\"/>"
   ]
  },
  {
   "cell_type": "markdown",
   "metadata": {},
   "source": [
    "### Linear Regression<a id=\"linear_regression\"/>"
   ]
  },
  {
   "cell_type": "code",
   "execution_count": 13,
   "metadata": {},
   "outputs": [
    {
     "name": "stdout",
     "output_type": "stream",
     "text": [
      "LinearRegression (n_samples=16384, n_features=32) [cpu=0.0035941600799560547, gpu=0.006970882415771484, speedup=0.5155961420069772]\n",
      "LinearRegression (n_samples=16384, n_features=256) [cpu=0.05764174461364746, gpu=0.012798786163330078, speedup=4.503688387168883]\n",
      "LinearRegression (n_samples=32768, n_features=32) [cpu=0.0073888301849365234, gpu=0.003835439682006836, speedup=1.926462360912538]\n",
      "LinearRegression (n_samples=32768, n_features=256) [cpu=0.1500997543334961, gpu=0.016392946243286133, speedup=9.156362261297032]\n",
      "LinearRegression (n_samples=65536, n_features=32) [cpu=0.015804052352905273, gpu=0.005158424377441406, speedup=3.063736365317064]\n",
      "LinearRegression (n_samples=65536, n_features=256) [cpu=0.38779282569885254, gpu=0.026781797409057617, speedup=14.479716195885375]\n",
      "2020-06-07 23:50:52.431196\n"
     ]
    }
   ],
   "source": [
    "runner = cuml.benchmark.runners.SpeedupComparisonRunner(\n",
    "    bench_rows=SMALL_ROW_SIZES, \n",
    "    bench_dims=SKINNY_FEATURES,\n",
    "    dataset_name=DATA_REGRESSION,\n",
    "    input_type=INPUT_TYPE,\n",
    "    n_reps=N_REPS\n",
    ")\n",
    "\n",
    "execute_benchmark(\"LinearRegression\", runner)\n",
    "print(datetime.datetime.now())\n"
   ]
  },
  {
   "cell_type": "markdown",
   "metadata": {},
   "source": [
    "### Logistic Regression<a id=\"logistic_regression\"/>"
   ]
  },
  {
   "cell_type": "code",
   "execution_count": 14,
   "metadata": {},
   "outputs": [
    {
     "name": "stdout",
     "output_type": "stream",
     "text": [
      "LogisticRegression (n_samples=16384, n_features=32) [cpu=0.008012056350708008, gpu=0.0043849945068359375, speedup=1.8271531100478469]\n"
     ]
    },
    {
     "name": "stderr",
     "output_type": "stream",
     "text": [
      "/usr/lib/python3.8/site-packages/sklearn/utils/validation.py:68: FutureWarning: Pass n_informative=2 as keyword args. From version 0.25 passing these as positional arguments will result in an error\n",
      "  warnings.warn(\"Pass {} as keyword args. From version 0.25 \"\n",
      "/usr/lib/python3.8/site-packages/sklearn/utils/validation.py:68: FutureWarning: Pass n_informative=2 as keyword args. From version 0.25 passing these as positional arguments will result in an error\n",
      "  warnings.warn(\"Pass {} as keyword args. From version 0.25 \"\n"
     ]
    },
    {
     "name": "stdout",
     "output_type": "stream",
     "text": [
      "LogisticRegression (n_samples=16384, n_features=256) [cpu=0.035088300704956055, gpu=0.007661104202270508, speedup=4.580057884417888]\n",
      "LogisticRegression (n_samples=32768, n_features=32) [cpu=0.017324209213256836, gpu=0.00445556640625, speedup=3.888217037671233]\n"
     ]
    },
    {
     "name": "stderr",
     "output_type": "stream",
     "text": [
      "/usr/lib/python3.8/site-packages/sklearn/utils/validation.py:68: FutureWarning: Pass n_informative=2 as keyword args. From version 0.25 passing these as positional arguments will result in an error\n",
      "  warnings.warn(\"Pass {} as keyword args. From version 0.25 \"\n",
      "/usr/lib/python3.8/site-packages/sklearn/utils/validation.py:68: FutureWarning: Pass n_informative=2 as keyword args. From version 0.25 passing these as positional arguments will result in an error\n",
      "  warnings.warn(\"Pass {} as keyword args. From version 0.25 \"\n"
     ]
    },
    {
     "name": "stdout",
     "output_type": "stream",
     "text": [
      "LogisticRegression (n_samples=32768, n_features=256) [cpu=0.07919788360595703, gpu=0.010094165802001953, speedup=7.84590675043696]\n",
      "LogisticRegression (n_samples=65536, n_features=32) [cpu=0.038588762283325195, gpu=0.005352973937988281, speedup=7.208845537145911]\n"
     ]
    },
    {
     "name": "stderr",
     "output_type": "stream",
     "text": [
      "/usr/lib/python3.8/site-packages/sklearn/utils/validation.py:68: FutureWarning: Pass n_informative=2 as keyword args. From version 0.25 passing these as positional arguments will result in an error\n",
      "  warnings.warn(\"Pass {} as keyword args. From version 0.25 \"\n",
      "/usr/lib/python3.8/site-packages/sklearn/utils/validation.py:68: FutureWarning: Pass n_informative=2 as keyword args. From version 0.25 passing these as positional arguments will result in an error\n",
      "  warnings.warn(\"Pass {} as keyword args. From version 0.25 \"\n"
     ]
    },
    {
     "name": "stdout",
     "output_type": "stream",
     "text": [
      "LogisticRegression (n_samples=65536, n_features=256) [cpu=0.14783954620361328, gpu=0.017374753952026367, speedup=8.508871355060034]\n",
      "2020-06-07 23:50:54.806584\n"
     ]
    }
   ],
   "source": [
    "runner = cuml.benchmark.runners.SpeedupComparisonRunner(\n",
    "    bench_rows=SMALL_ROW_SIZES, \n",
    "    bench_dims=SKINNY_FEATURES,\n",
    "    dataset_name=DATA_CLASSIFICATION,\n",
    "    input_type=INPUT_TYPE,\n",
    "    n_reps=N_REPS\n",
    ")\n",
    "\n",
    "execute_benchmark(\"LogisticRegression\", runner)\n",
    "print(datetime.datetime.now())\n"
   ]
  },
  {
   "cell_type": "markdown",
   "metadata": {},
   "source": [
    "### Ridge Regression<a id=\"ridge_regression\"/>"
   ]
  },
  {
   "cell_type": "code",
   "execution_count": 15,
   "metadata": {},
   "outputs": [
    {
     "name": "stdout",
     "output_type": "stream",
     "text": [
      "Ridge (n_samples=16384, n_features=32) [cpu=0.001779317855834961, gpu=0.0039501190185546875, speedup=0.45044664413326896]\n",
      "Ridge (n_samples=16384, n_features=256) [cpu=0.013144969940185547, gpu=0.015361547470092773, speedup=0.8557061042044979]\n",
      "Ridge (n_samples=32768, n_features=32) [cpu=0.003414630889892578, gpu=0.0042841434478759766, speedup=0.7970393455395404]\n",
      "Ridge (n_samples=32768, n_features=256) [cpu=0.026165485382080078, gpu=0.01908564567565918, speedup=1.3709510187255625]\n",
      "Ridge (n_samples=65536, n_features=32) [cpu=0.007142782211303711, gpu=0.005162954330444336, speedup=1.3834680212422072]\n",
      "Ridge (n_samples=65536, n_features=256) [cpu=0.054956912994384766, gpu=0.026737451553344727, speedup=2.055428240224709]\n",
      "2020-06-07 23:50:56.388787\n"
     ]
    }
   ],
   "source": [
    "runner = cuml.benchmark.runners.SpeedupComparisonRunner(\n",
    "    bench_rows=SMALL_ROW_SIZES, \n",
    "    bench_dims=SKINNY_FEATURES,\n",
    "    dataset_name=DATA_REGRESSION,\n",
    "    input_type=INPUT_TYPE,\n",
    "    n_reps=N_REPS\n",
    ")\n",
    "\n",
    "execute_benchmark(\"Ridge\", runner)\n",
    "print(datetime.datetime.now())\n"
   ]
  },
  {
   "cell_type": "markdown",
   "metadata": {},
   "source": [
    "### Lasso Regression<a id=\"lasso_regression\"/>"
   ]
  },
  {
   "cell_type": "code",
   "execution_count": 16,
   "metadata": {},
   "outputs": [
    {
     "name": "stdout",
     "output_type": "stream",
     "text": [
      "Lasso (n_samples=16384, n_features=32) [cpu=0.0023255348205566406, gpu=0.004398345947265625, speedup=0.5287294015611448]\n",
      "Lasso (n_samples=16384, n_features=256) [cpu=0.03462386131286621, gpu=0.026608705520629883, speedup=1.3012230634828188]\n",
      "Lasso (n_samples=32768, n_features=32) [cpu=0.004532814025878906, gpu=0.004392147064208984, speedup=1.0320269243296059]\n",
      "Lasso (n_samples=32768, n_features=256) [cpu=0.09110093116760254, gpu=0.028342247009277344, speedup=3.2143157575961507]\n",
      "Lasso (n_samples=65536, n_features=32) [cpu=0.009447097778320312, gpu=0.005184650421142578, speedup=1.8221282074864342]\n",
      "Lasso (n_samples=65536, n_features=256) [cpu=0.18984222412109375, gpu=0.03443431854248047, speedup=5.513169191569502]\n",
      "2020-06-07 23:50:57.742964\n"
     ]
    }
   ],
   "source": [
    "runner = cuml.benchmark.runners.SpeedupComparisonRunner(\n",
    "    bench_rows=SMALL_ROW_SIZES, \n",
    "    bench_dims=SKINNY_FEATURES,\n",
    "    dataset_name=DATA_REGRESSION,\n",
    "    input_type=INPUT_TYPE,\n",
    "    n_reps=N_REPS\n",
    ")\n",
    "\n",
    "execute_benchmark(\"Lasso\", runner)\n",
    "print(datetime.datetime.now())\n"
   ]
  },
  {
   "cell_type": "markdown",
   "metadata": {},
   "source": [
    "### ElasticNet Regression<a id=\"elasticnet_regression\"/>"
   ]
  },
  {
   "cell_type": "code",
   "execution_count": 17,
   "metadata": {},
   "outputs": [
    {
     "name": "stdout",
     "output_type": "stream",
     "text": [
      "ElasticNet (n_samples=16384, n_features=32) [cpu=0.0024836063385009766, gpu=0.004620075225830078, speedup=0.5375683765094437]\n",
      "ElasticNet (n_samples=16384, n_features=256) [cpu=0.03919839859008789, gpu=0.03199577331542969, speedup=1.2251117734724293]\n",
      "ElasticNet (n_samples=32768, n_features=32) [cpu=0.00503993034362793, gpu=0.004395484924316406, speedup=1.146615317856368]\n",
      "ElasticNet (n_samples=32768, n_features=256) [cpu=0.09511566162109375, gpu=0.03628206253051758, speedup=2.6215615923458055]\n",
      "ElasticNet (n_samples=65536, n_features=32) [cpu=0.009677886962890625, gpu=0.0051326751708984375, speedup=1.8855444072835377]\n",
      "ElasticNet (n_samples=65536, n_features=256) [cpu=0.19716691970825195, gpu=0.03401470184326172, speedup=5.796520593265483]\n",
      "2020-06-07 23:50:59.185168\n"
     ]
    }
   ],
   "source": [
    "runner = cuml.benchmark.runners.SpeedupComparisonRunner(\n",
    "    bench_rows=SMALL_ROW_SIZES, \n",
    "    bench_dims=SKINNY_FEATURES,\n",
    "    dataset_name=DATA_REGRESSION,\n",
    "    input_type=INPUT_TYPE,\n",
    "    n_reps=N_REPS\n",
    ")\n",
    "\n",
    "execute_benchmark(\"ElasticNet\", runner)\n",
    "print(datetime.datetime.now())\n"
   ]
  },
  {
   "cell_type": "markdown",
   "metadata": {},
   "source": [
    "### Mini-batch SGD Classifier<a id=\"minibatch_sgd_classifier\"/>"
   ]
  },
  {
   "cell_type": "code",
   "execution_count": 18,
   "metadata": {},
   "outputs": [
    {
     "name": "stderr",
     "output_type": "stream",
     "text": [
      "/usr/lib/python3.8/site-packages/sklearn/utils/validation.py:68: FutureWarning: Pass n_informative=2 as keyword args. From version 0.25 passing these as positional arguments will result in an error\n",
      "  warnings.warn(\"Pass {} as keyword args. From version 0.25 \"\n",
      "/usr/lib/python3.8/site-packages/cuml/benchmark/runners.py:115: UserWarning: run_cpu argument is set to True but no CPU implementation was provided. It's possible an additional library is needed but one could not be found. Benchmark will be executed with run_cpu=False\n",
      "  warnings.warn(\"run_cpu argument is set to True but no CPU \"\n"
     ]
    },
    {
     "name": "stdout",
     "output_type": "stream",
     "text": [
      "MBSGDClassifier (n_samples=16384, n_features=32) [cpu=0.0, gpu=2.3639838695526123, speedup=0.0]\n",
      "MBSGDClassifier (n_samples=16384, n_features=256) [cpu=0.0, gpu=2.4248995780944824, speedup=0.0]\n",
      "MBSGDClassifier (n_samples=32768, n_features=32) [cpu=0.0, gpu=4.689517021179199, speedup=0.0]\n",
      "MBSGDClassifier (n_samples=32768, n_features=256) [cpu=0.0, gpu=4.895754098892212, speedup=0.0]\n",
      "MBSGDClassifier (n_samples=65536, n_features=32) [cpu=0.0, gpu=9.524788856506348, speedup=0.0]\n",
      "MBSGDClassifier (n_samples=65536, n_features=256) [cpu=0.0, gpu=9.937710762023926, speedup=0.0]\n",
      "2020-06-07 23:52:42.116770\n"
     ]
    }
   ],
   "source": [
    "runner = cuml.benchmark.runners.SpeedupComparisonRunner(\n",
    "    bench_rows=SMALL_ROW_SIZES, \n",
    "    bench_dims=SKINNY_FEATURES,\n",
    "    dataset_name=DATA_CLASSIFICATION,\n",
    "    input_type=INPUT_TYPE,\n",
    "    n_reps=N_REPS\n",
    ")\n",
    "\n",
    "execute_benchmark(\"MBSGDClassifier\", runner)\n",
    "print(datetime.datetime.now())\n"
   ]
  },
  {
   "cell_type": "markdown",
   "metadata": {},
   "source": [
    "## Decomposition<a id=\"decomposition\"/>"
   ]
  },
  {
   "cell_type": "markdown",
   "metadata": {},
   "source": [
    "### PCA<a id=\"pca\"/>"
   ]
  },
  {
   "cell_type": "code",
   "execution_count": 19,
   "metadata": {},
   "outputs": [
    {
     "name": "stdout",
     "output_type": "stream",
     "text": [
      "PCA (n_samples=16384, n_features=1000) [cpu=0.13559961318969727, gpu=0.053894758224487305, speedup=2.516007449646319]\n",
      "PCA (n_samples=16384, n_features=10000) [cpu=1.4454493522644043, gpu=3.8121442794799805, speedup=0.37916963427774036]\n",
      "PCA (n_samples=32768, n_features=1000) [cpu=0.27330875396728516, gpu=0.06753826141357422, speedup=4.0467247490080345]\n",
      "PCA (n_samples=32768, n_features=10000) [cpu=2.9650356769561768, gpu=4.561469554901123, speedup=0.6500176404269453]\n",
      "PCA (n_samples=65536, n_features=1000) [cpu=0.5532975196838379, gpu=0.09127116203308105, speedup=6.062128577735169]\n",
      "PCA (n_samples=65536, n_features=10000) [cpu=6.005542278289795, gpu=6.20557713508606, speedup=0.9677653097460869]\n",
      "2020-06-07 23:54:37.161370\n"
     ]
    }
   ],
   "source": [
    "runner = cuml.benchmark.runners.SpeedupComparisonRunner(\n",
    "    bench_rows=SMALL_ROW_SIZES, \n",
    "    bench_dims=WIDE_FEATURES,\n",
    "    dataset_name=DATA_NEIGHBORHOODS,\n",
    "    input_type=INPUT_TYPE,\n",
    "    n_reps=N_REPS\n",
    ")\n",
    "\n",
    "execute_benchmark(\"PCA\", runner)\n",
    "print(datetime.datetime.now())\n"
   ]
  },
  {
   "cell_type": "markdown",
   "metadata": {},
   "source": [
    "### Truncated SVD<a id=\"truncated_svd\"/>"
   ]
  },
  {
   "cell_type": "code",
   "execution_count": 20,
   "metadata": {},
   "outputs": [
    {
     "name": "stdout",
     "output_type": "stream",
     "text": [
      "tSVD (n_samples=16384, n_features=1000) [cpu=0.09374833106994629, gpu=0.06616687774658203, speedup=1.4168468312650437]\n",
      "tSVD (n_samples=16384, n_features=10000) [cpu=1.0133702754974365, gpu=3.8346996307373047, speedup=0.26426327302787833]\n",
      "tSVD (n_samples=32768, n_features=1000) [cpu=0.193558931350708, gpu=0.07798480987548828, speedup=2.482008120039622]\n",
      "tSVD (n_samples=32768, n_features=10000) [cpu=2.082761764526367, gpu=4.572961091995239, speedup=0.45545145095858064]\n",
      "tSVD (n_samples=65536, n_features=1000) [cpu=0.39010119438171387, gpu=0.10517048835754395, speedup=3.7092268037731486]\n",
      "tSVD (n_samples=65536, n_features=10000) [cpu=4.221103668212891, gpu=6.201005697250366, speedup=0.6807127543979844]\n",
      "2020-06-07 23:55:45.964749\n"
     ]
    }
   ],
   "source": [
    "runner = cuml.benchmark.runners.SpeedupComparisonRunner(\n",
    "    bench_rows=SMALL_ROW_SIZES, \n",
    "    bench_dims=WIDE_FEATURES,\n",
    "    dataset_name=DATA_NEIGHBORHOODS,\n",
    "    input_type=INPUT_TYPE,\n",
    "    n_reps=N_REPS\n",
    ")\n",
    "\n",
    "execute_benchmark(\"TSVD\", runner)\n",
    "print(datetime.datetime.now())\n"
   ]
  },
  {
   "cell_type": "markdown",
   "metadata": {},
   "source": [
    "## Ensemble<a id=\"ensemble\"/>"
   ]
  },
  {
   "cell_type": "markdown",
   "metadata": {},
   "source": [
    "### Random Forest Classifier<a id=\"random_forest_classifier\"/>"
   ]
  },
  {
   "cell_type": "code",
   "execution_count": 21,
   "metadata": {
    "scrolled": false
   },
   "outputs": [
    {
     "name": "stderr",
     "output_type": "stream",
     "text": [
      "/usr/lib/python3.8/site-packages/sklearn/utils/validation.py:68: FutureWarning: Pass n_informative=2 as keyword args. From version 0.25 passing these as positional arguments will result in an error\n",
      "  warnings.warn(\"Pass {} as keyword args. From version 0.25 \"\n"
     ]
    },
    {
     "name": "stdout",
     "output_type": "stream",
     "text": [
      "RandomForestClassifier (n_samples=16384, n_features=32) [cpu=2.598961591720581, gpu=0.10069084167480469, speedup=25.811300695194255]\n"
     ]
    },
    {
     "name": "stderr",
     "output_type": "stream",
     "text": [
      "/usr/lib/python3.8/site-packages/sklearn/utils/validation.py:68: FutureWarning: Pass n_informative=2 as keyword args. From version 0.25 passing these as positional arguments will result in an error\n",
      "  warnings.warn(\"Pass {} as keyword args. From version 0.25 \"\n"
     ]
    },
    {
     "name": "stdout",
     "output_type": "stream",
     "text": [
      "RandomForestClassifier (n_samples=16384, n_features=256) [cpu=31.429805517196655, gpu=0.6615641117095947, speedup=47.50832906576003]\n"
     ]
    },
    {
     "name": "stderr",
     "output_type": "stream",
     "text": [
      "/usr/lib/python3.8/site-packages/sklearn/utils/validation.py:68: FutureWarning: Pass n_informative=2 as keyword args. From version 0.25 passing these as positional arguments will result in an error\n",
      "  warnings.warn(\"Pass {} as keyword args. From version 0.25 \"\n"
     ]
    },
    {
     "name": "stdout",
     "output_type": "stream",
     "text": [
      "RandomForestClassifier (n_samples=32768, n_features=32) [cpu=8.116916418075562, gpu=0.11950159072875977, speedup=67.92308260146122]\n"
     ]
    },
    {
     "name": "stderr",
     "output_type": "stream",
     "text": [
      "/usr/lib/python3.8/site-packages/sklearn/utils/validation.py:68: FutureWarning: Pass n_informative=2 as keyword args. From version 0.25 passing these as positional arguments will result in an error\n",
      "  warnings.warn(\"Pass {} as keyword args. From version 0.25 \"\n"
     ]
    },
    {
     "name": "stdout",
     "output_type": "stream",
     "text": [
      "RandomForestClassifier (n_samples=32768, n_features=256) [cpu=137.03858184814453, gpu=0.767174243927002, speedup=178.62771454197048]\n"
     ]
    },
    {
     "name": "stderr",
     "output_type": "stream",
     "text": [
      "/usr/lib/python3.8/site-packages/sklearn/utils/validation.py:68: FutureWarning: Pass n_informative=2 as keyword args. From version 0.25 passing these as positional arguments will result in an error\n",
      "  warnings.warn(\"Pass {} as keyword args. From version 0.25 \"\n"
     ]
    },
    {
     "name": "stdout",
     "output_type": "stream",
     "text": [
      "RandomForestClassifier (n_samples=65536, n_features=32) [cpu=24.547792673110962, gpu=0.14866948127746582, speedup=165.11655561168442]\n"
     ]
    },
    {
     "name": "stderr",
     "output_type": "stream",
     "text": [
      "/usr/lib/python3.8/site-packages/sklearn/utils/validation.py:68: FutureWarning: Pass n_informative=2 as keyword args. From version 0.25 passing these as positional arguments will result in an error\n",
      "  warnings.warn(\"Pass {} as keyword args. From version 0.25 \"\n"
     ]
    },
    {
     "name": "stdout",
     "output_type": "stream",
     "text": [
      "RandomForestClassifier (n_samples=65536, n_features=256) [cpu=497.0007326602936, gpu=0.9484043121337891, speedup=524.0388790958839]\n",
      "2020-06-08 00:31:36.645913\n"
     ]
    }
   ],
   "source": [
    "runner = cuml.benchmark.runners.SpeedupComparisonRunner(\n",
    "    bench_rows=SMALL_ROW_SIZES, \n",
    "    bench_dims=SKINNY_FEATURES,\n",
    "    dataset_name=DATA_CLASSIFICATION,\n",
    "    input_type=INPUT_TYPE,\n",
    "    n_reps=N_REPS\n",
    ")\n",
    "\n",
    "execute_benchmark(\"RandomForestClassifier\", runner)\n",
    "print(datetime.datetime.now())\n"
   ]
  },
  {
   "cell_type": "markdown",
   "metadata": {},
   "source": [
    "### Random Forest Regressor<a id=\"random_forest_regressor\"/>"
   ]
  },
  {
   "cell_type": "code",
   "execution_count": 22,
   "metadata": {},
   "outputs": [
    {
     "name": "stdout",
     "output_type": "stream",
     "text": [
      "RandomForestRegressor (n_samples=16384, n_features=32) [cpu=2.009795904159546, gpu=0.21877574920654297, speedup=9.186557063333957]\n",
      "RandomForestRegressor (n_samples=16384, n_features=256) [cpu=15.352909803390503, gpu=1.5733225345611572, speedup=9.758272360646542]\n",
      "RandomForestRegressor (n_samples=32768, n_features=32) [cpu=4.481846570968628, gpu=0.26233935356140137, speedup=17.084156494727495]\n",
      "RandomForestRegressor (n_samples=32768, n_features=256) [cpu=35.1604368686676, gpu=2.183724880218506, speedup=16.101129399207746]\n",
      "RandomForestRegressor (n_samples=65536, n_features=32) [cpu=10.041916131973267, gpu=0.35718679428100586, speedup=28.11390648466442]\n",
      "RandomForestRegressor (n_samples=65536, n_features=256) [cpu=79.60107517242432, gpu=3.2328474521636963, speedup=24.622589327296748]\n",
      "2020-06-08 00:39:21.754571\n"
     ]
    }
   ],
   "source": [
    "runner = cuml.benchmark.runners.SpeedupComparisonRunner(\n",
    "    bench_rows=SMALL_ROW_SIZES, \n",
    "    bench_dims=SKINNY_FEATURES,\n",
    "    dataset_name=DATA_REGRESSION,\n",
    "    input_type=INPUT_TYPE,\n",
    "    n_reps=N_REPS\n",
    ")\n",
    "\n",
    "execute_benchmark(\"RandomForestRegressor\", runner)\n",
    "print(datetime.datetime.now())\n"
   ]
  },
  {
   "cell_type": "markdown",
   "metadata": {},
   "source": [
    "### FIL<a id=\"fil\"/>\n",
    "CPU benchmark requires XGBoost Library"
   ]
  },
  {
   "cell_type": "code",
   "execution_count": 23,
   "metadata": {},
   "outputs": [
    {
     "name": "stderr",
     "output_type": "stream",
     "text": [
      "/usr/lib/python3.8/site-packages/sklearn/utils/validation.py:68: FutureWarning: Pass n_informative=2 as keyword args. From version 0.25 passing these as positional arguments will result in an error\n",
      "  warnings.warn(\"Pass {} as keyword args. From version 0.25 \"\n"
     ]
    },
    {
     "name": "stdout",
     "output_type": "stream",
     "text": [
      "[00:39:22] WARNING: /home/dai/work/dmlc/xgboost/src/xgboost/src/learner.cc:480: \n",
      "Parameters: { fil_algo, num_rounds, output_class, silent, storage_type, threshold } might not be used.\n",
      "\n",
      "  This may not be accurate due to some parameters are only used in language bindings but\n",
      "  passed down to XGBoost core.  Or some parameters are not used but slip through this\n",
      "  verification. Please open an issue if you find above cases.\n",
      "\n",
      "\n",
      "[00:39:22] /home/dai/work/dmlc/treelite/src/treelite/src/compiler/ast/split.cc:28: Parallel compilation enabled; member trees will be divided into 40 translation units.\n",
      "FIL (n_samples=16384, n_features=32) [cpu=0.005563259124755859, gpu=0.0007450580596923828, speedup=7.46688]\n"
     ]
    },
    {
     "name": "stderr",
     "output_type": "stream",
     "text": [
      "/usr/lib/python3.8/site-packages/sklearn/utils/validation.py:68: FutureWarning: Pass n_informative=2 as keyword args. From version 0.25 passing these as positional arguments will result in an error\n",
      "  warnings.warn(\"Pass {} as keyword args. From version 0.25 \"\n"
     ]
    },
    {
     "name": "stdout",
     "output_type": "stream",
     "text": [
      "[00:39:24] WARNING: /home/dai/work/dmlc/xgboost/src/xgboost/src/learner.cc:480: \n",
      "Parameters: { fil_algo, num_rounds, output_class, silent, storage_type, threshold } might not be used.\n",
      "\n",
      "  This may not be accurate due to some parameters are only used in language bindings but\n",
      "  passed down to XGBoost core.  Or some parameters are not used but slip through this\n",
      "  verification. Please open an issue if you find above cases.\n",
      "\n",
      "\n",
      "[00:39:25] /home/dai/work/dmlc/treelite/src/treelite/src/compiler/ast/split.cc:28: Parallel compilation enabled; member trees will be divided into 40 translation units.\n",
      "FIL (n_samples=16384, n_features=256) [cpu=0.005486965179443359, gpu=0.002361297607421875, speedup=2.3237075928917608]\n",
      "[00:39:28] WARNING: /home/dai/work/dmlc/xgboost/src/xgboost/src/learner.cc:480: \n",
      "Parameters: { fil_algo, num_rounds, output_class, silent, storage_type, threshold } might not be used.\n",
      "\n",
      "  This may not be accurate due to some parameters are only used in language bindings but\n",
      "  passed down to XGBoost core.  Or some parameters are not used but slip through this\n",
      "  verification. Please open an issue if you find above cases.\n",
      "\n",
      "\n",
      "[00:39:29] /home/dai/work/dmlc/treelite/src/treelite/src/compiler/ast/split.cc:28: Parallel compilation enabled; member trees will be divided into 40 translation units.\n",
      "FIL (n_samples=32768, n_features=32) [cpu=0.019890546798706055, gpu=0.0012698173522949219, speedup=15.66410063837777]\n",
      "[00:39:35] WARNING: /home/dai/work/dmlc/xgboost/src/xgboost/src/learner.cc:480: \n",
      "Parameters: { fil_algo, num_rounds, output_class, silent, storage_type, threshold } might not be used.\n",
      "\n",
      "  This may not be accurate due to some parameters are only used in language bindings but\n",
      "  passed down to XGBoost core.  Or some parameters are not used but slip through this\n",
      "  verification. Please open an issue if you find above cases.\n",
      "\n",
      "\n",
      "[00:39:37] /home/dai/work/dmlc/treelite/src/treelite/src/compiler/ast/split.cc:28: Parallel compilation enabled; member trees will be divided into 40 translation units.\n",
      "FIL (n_samples=32768, n_features=256) [cpu=0.02030777931213379, gpu=0.0045468807220458984, speedup=4.466310104346914]\n",
      "[00:39:42] WARNING: /home/dai/work/dmlc/xgboost/src/xgboost/src/learner.cc:480: \n",
      "Parameters: { fil_algo, num_rounds, output_class, silent, storage_type, threshold } might not be used.\n",
      "\n",
      "  This may not be accurate due to some parameters are only used in language bindings but\n",
      "  passed down to XGBoost core.  Or some parameters are not used but slip through this\n",
      "  verification. Please open an issue if you find above cases.\n",
      "\n",
      "\n",
      "[00:39:44] /home/dai/work/dmlc/treelite/src/treelite/src/compiler/ast/split.cc:28: Parallel compilation enabled; member trees will be divided into 40 translation units.\n",
      "FIL (n_samples=65536, n_features=32) [cpu=0.053696632385253906, gpu=0.0024099349975585938, speedup=22.281361297981796]\n",
      "[00:39:55] WARNING: /home/dai/work/dmlc/xgboost/src/xgboost/src/learner.cc:480: \n",
      "Parameters: { fil_algo, num_rounds, output_class, silent, storage_type, threshold } might not be used.\n",
      "\n",
      "  This may not be accurate due to some parameters are only used in language bindings but\n",
      "  passed down to XGBoost core.  Or some parameters are not used but slip through this\n",
      "  verification. Please open an issue if you find above cases.\n",
      "\n",
      "\n",
      "[00:39:58] /home/dai/work/dmlc/treelite/src/treelite/src/compiler/ast/split.cc:28: Parallel compilation enabled; member trees will be divided into 40 translation units.\n",
      "FIL (n_samples=65536, n_features=256) [cpu=0.06270623207092285, gpu=0.00848245620727539, speedup=7.392461633593794]\n",
      "2020-06-08 00:40:09.269643\n"
     ]
    }
   ],
   "source": [
    "runner = cuml.benchmark.runners.SpeedupComparisonRunner(\n",
    "    bench_rows=SMALL_ROW_SIZES, \n",
    "    bench_dims=SKINNY_FEATURES,\n",
    "    dataset_name=DATA_CLASSIFICATION,\n",
    "    input_type=INPUT_TYPE,\n",
    "    n_reps=N_REPS\n",
    ")\n",
    "\n",
    "execute_benchmark(\"FIL\", runner)\n",
    "print(datetime.datetime.now())\n"
   ]
  },
  {
   "cell_type": "markdown",
   "metadata": {},
   "source": [
    "## Sparse FIL<a id=\"sparse_fil\"/>\n",
    "Requires TreeLite library"
   ]
  },
  {
   "cell_type": "code",
   "execution_count": 24,
   "metadata": {},
   "outputs": [
    {
     "name": "stdout",
     "output_type": "stream",
     "text": [
      "Sparse-FIL-SKL (n_samples=16384, n_features=32) [cpu=0.10951733589172363, gpu=0.0013086795806884766, speedup=83.68537074148297]\n",
      "Sparse-FIL-SKL (n_samples=16384, n_features=256) [cpu=0.17769980430603027, gpu=0.0035347938537597656, speedup=50.271617428841225]\n",
      "Sparse-FIL-SKL (n_samples=32768, n_features=32) [cpu=0.23517942428588867, gpu=0.002532958984375, speedup=92.847703313253]\n",
      "Sparse-FIL-SKL (n_samples=32768, n_features=256) [cpu=0.35328173637390137, gpu=0.006570339202880859, speedup=53.76917773423325]\n",
      "Sparse-FIL-SKL (n_samples=65536, n_features=32) [cpu=0.34090280532836914, gpu=0.004309892654418945, speedup=79.09774852021906]\n",
      "Sparse-FIL-SKL (n_samples=65536, n_features=256) [cpu=0.635577917098999, gpu=0.011716127395629883, speedup=54.24812274882481]\n",
      "2020-06-08 00:43:56.442548\n"
     ]
    }
   ],
   "source": [
    "runner = cuml.benchmark.runners.SpeedupComparisonRunner(\n",
    "    bench_rows=SMALL_ROW_SIZES, \n",
    "    bench_dims=SKINNY_FEATURES,\n",
    "    dataset_name=DATA_CLASSIFICATION,\n",
    "    input_type=INPUT_TYPE,\n",
    "    n_reps=N_REPS\n",
    ")\n",
    "\n",
    "execute_benchmark(\"Sparse-FIL-SKL\", runner)\n",
    "print(datetime.datetime.now())\n"
   ]
  },
  {
   "cell_type": "markdown",
   "metadata": {},
   "source": [
    "## Random Projection<a id=\"random_projection\"/>"
   ]
  },
  {
   "cell_type": "markdown",
   "metadata": {},
   "source": [
    "### Gaussian Random Projection<a id=\"gaussian_random_projection\"/>"
   ]
  },
  {
   "cell_type": "code",
   "execution_count": 25,
   "metadata": {},
   "outputs": [
    {
     "name": "stdout",
     "output_type": "stream",
     "text": [
      "GaussianRandomProjection (n_samples=16384, n_features=1000) [cpu=0.042278289794921875, gpu=0.021867990493774414, speedup=1.9333413285943242]\n",
      "GaussianRandomProjection (n_samples=16384, n_features=10000) [cpu=0.4197394847869873, gpu=0.18793463706970215, speedup=2.233433343270896]\n",
      "GaussianRandomProjection (n_samples=32768, n_features=1000) [cpu=0.08437061309814453, gpu=0.041129112243652344, speedup=2.0513599369304614]\n",
      "GaussianRandomProjection (n_samples=32768, n_features=10000) [cpu=0.8517284393310547, gpu=0.36293983459472656, speedup=2.3467482986047243]\n",
      "GaussianRandomProjection (n_samples=65536, n_features=1000) [cpu=0.16800737380981445, gpu=0.07772111892700195, speedup=2.1616695195499194]\n",
      "GaussianRandomProjection (n_samples=65536, n_features=10000) [cpu=1.7060184478759766, gpu=0.7218894958496094, speedup=2.363268142401936]\n",
      "2020-06-08 00:44:46.560713\n"
     ]
    }
   ],
   "source": [
    "runner = cuml.benchmark.runners.SpeedupComparisonRunner(\n",
    "    bench_rows=SMALL_ROW_SIZES,\n",
    "    bench_dims=WIDE_FEATURES,\n",
    "    dataset_name=DATA_NEIGHBORHOODS,\n",
    "    input_type=INPUT_TYPE,\n",
    "    n_reps=N_REPS\n",
    ")\n",
    "\n",
    "execute_benchmark(\"GaussianRandomProjection\", runner)\n",
    "print(datetime.datetime.now())\n"
   ]
  },
  {
   "cell_type": "markdown",
   "metadata": {},
   "source": [
    "### Sparse Random Projection<a id=\"sparse_random_projection\"/>"
   ]
  },
  {
   "cell_type": "code",
   "execution_count": 26,
   "metadata": {},
   "outputs": [
    {
     "name": "stdout",
     "output_type": "stream",
     "text": [
      "SparseRandomProjection (n_samples=16384, n_features=1000) [cpu=0.05700516700744629, gpu=0.02223682403564453, speedup=2.5635480550671184]\n",
      "SparseRandomProjection (n_samples=16384, n_features=10000) [cpu=0.5389745235443115, gpu=0.1787562370300293, speedup=3.015136884167958]\n",
      "SparseRandomProjection (n_samples=32768, n_features=1000) [cpu=0.1165018081665039, gpu=0.03850841522216797, speedup=3.0253597166844153]\n",
      "SparseRandomProjection (n_samples=32768, n_features=10000) [cpu=1.1305773258209229, gpu=0.3399646282196045, speedup=3.3255734037442624]\n",
      "SparseRandomProjection (n_samples=65536, n_features=1000) [cpu=0.24157953262329102, gpu=0.07730960845947266, speedup=3.124831924998458]\n",
      "SparseRandomProjection (n_samples=65536, n_features=10000) [cpu=2.391023874282837, gpu=0.6946656703948975, speedup=3.441977884013771]\n",
      "2020-06-08 00:45:04.413584\n"
     ]
    }
   ],
   "source": [
    "runner = cuml.benchmark.runners.SpeedupComparisonRunner(\n",
    "    bench_rows=SMALL_ROW_SIZES,\n",
    "    bench_dims=WIDE_FEATURES,\n",
    "    dataset_name=DATA_NEIGHBORHOODS,\n",
    "    input_type=INPUT_TYPE,\n",
    "    n_reps=N_REPS\n",
    ")\n",
    "\n",
    "execute_benchmark(\"SparseRandomProjection\", runner)\n",
    "print(datetime.datetime.now())\n"
   ]
  },
  {
   "cell_type": "markdown",
   "metadata": {},
   "source": [
    "## SVM<a id=\"svm\"/>"
   ]
  },
  {
   "cell_type": "markdown",
   "metadata": {},
   "source": [
    "### SVC - Linear Kernel<a id=\"svc_linear_kernel\"/>"
   ]
  },
  {
   "cell_type": "code",
   "execution_count": 27,
   "metadata": {},
   "outputs": [
    {
     "name": "stderr",
     "output_type": "stream",
     "text": [
      "/usr/lib/python3.8/site-packages/sklearn/utils/validation.py:68: FutureWarning: Pass n_informative=2 as keyword args. From version 0.25 passing these as positional arguments will result in an error\n",
      "  warnings.warn(\"Pass {} as keyword args. From version 0.25 \"\n"
     ]
    },
    {
     "name": "stdout",
     "output_type": "stream",
     "text": [
      "SVC-Linear (n_samples=16384, n_features=32) [cpu=0.0, gpu=1.404529094696045, speedup=0.0]\n",
      "SVC-Linear (n_samples=16384, n_features=256) [cpu=0.0, gpu=19.6049485206604, speedup=0.0]\n",
      "SVC-Linear (n_samples=32768, n_features=32) [cpu=0.0, gpu=2.636507034301758, speedup=0.0]\n",
      "SVC-Linear (n_samples=32768, n_features=256) [cpu=0.0, gpu=30.550963163375854, speedup=0.0]\n",
      "SVC-Linear (n_samples=65536, n_features=32) [cpu=0.0, gpu=6.390242576599121, speedup=0.0]\n",
      "SVC-Linear (n_samples=65536, n_features=256) [cpu=0.0, gpu=59.2670042514801, speedup=0.0]\n",
      "2020-06-08 00:51:05.692927\n"
     ]
    }
   ],
   "source": [
    "runner = cuml.benchmark.runners.SpeedupComparisonRunner(\n",
    "    bench_rows=SMALL_ROW_SIZES, \n",
    "    bench_dims=SKINNY_FEATURES,\n",
    "    dataset_name=DATA_CLASSIFICATION,\n",
    "    input_type=INPUT_TYPE,\n",
    "    n_reps=N_REPS\n",
    ")\n",
    "\n",
    "# Due to extreme high runtime, the CPU benchmark \n",
    "# is disabled. Use run_cpu=True to re-enable. \n",
    "\n",
    "execute_benchmark(\"SVC-Linear\", runner, run_cpu=False)\n",
    "print(datetime.datetime.now())\n"
   ]
  },
  {
   "cell_type": "markdown",
   "metadata": {},
   "source": [
    "### SVC - RBF Kernel<a id=\"svc_rbf_kernel\"/>"
   ]
  },
  {
   "cell_type": "code",
   "execution_count": 28,
   "metadata": {
    "scrolled": true
   },
   "outputs": [
    {
     "name": "stdout",
     "output_type": "stream",
     "text": [
      "SVC-RBF (n_samples=16384, n_features=32) [cpu=0.0, gpu=0.1182711124420166, speedup=0.0]\n",
      "SVC-RBF (n_samples=16384, n_features=256) [cpu=0.0, gpu=0.14745569229125977, speedup=0.0]\n",
      "SVC-RBF (n_samples=32768, n_features=32) [cpu=0.0, gpu=0.17241334915161133, speedup=0.0]\n",
      "SVC-RBF (n_samples=32768, n_features=256) [cpu=0.0, gpu=0.4568037986755371, speedup=0.0]\n",
      "SVC-RBF (n_samples=65536, n_features=32) [cpu=0.0, gpu=0.5819928646087646, speedup=0.0]\n",
      "SVC-RBF (n_samples=65536, n_features=256) [cpu=0.0, gpu=1.4177427291870117, speedup=0.0]\n",
      "2020-06-08 00:51:14.418395\n"
     ]
    }
   ],
   "source": [
    "runner = cuml.benchmark.runners.SpeedupComparisonRunner(\n",
    "    bench_rows=SMALL_ROW_SIZES, \n",
    "    bench_dims=SKINNY_FEATURES,\n",
    "    dataset_name=DATA_CLASSIFICATION,\n",
    "    input_type=INPUT_TYPE,\n",
    "    n_reps=N_REPS\n",
    ")\n",
    "\n",
    "# Due to extreme high runtime, the CPU benchmark \n",
    "# is disabled. Use run_cpu=True to re-enable. \n",
    "\n",
    "execute_benchmark(\"SVC-RBF\", runner, run_cpu=False)\n",
    "print(datetime.datetime.now())\n"
   ]
  },
  {
   "cell_type": "markdown",
   "metadata": {},
   "source": [
    "### SVR - Linear Kernel<a id=\"svr_linear_kernel\"/>"
   ]
  },
  {
   "cell_type": "code",
   "execution_count": 29,
   "metadata": {},
   "outputs": [
    {
     "name": "stdout",
     "output_type": "stream",
     "text": [
      "SVR-Linear (n_samples=16384, n_features=32) [cpu=0.0, gpu=0.7746016979217529, speedup=0.0]\n",
      "SVR-Linear (n_samples=16384, n_features=256) [cpu=0.0, gpu=19.937989234924316, speedup=0.0]\n",
      "SVR-Linear (n_samples=32768, n_features=32) [cpu=0.0, gpu=0.8108932971954346, speedup=0.0]\n",
      "SVR-Linear (n_samples=32768, n_features=256) [cpu=0.0, gpu=15.260314464569092, speedup=0.0]\n",
      "SVR-Linear (n_samples=65536, n_features=32) [cpu=0.0, gpu=0.5599827766418457, speedup=0.0]\n",
      "SVR-Linear (n_samples=65536, n_features=256) [cpu=0.0, gpu=14.95423936843872, speedup=0.0]\n",
      "2020-06-08 00:53:52.478121\n"
     ]
    }
   ],
   "source": [
    "runner = cuml.benchmark.runners.SpeedupComparisonRunner(\n",
    "    bench_rows=SMALL_ROW_SIZES, \n",
    "    bench_dims=SKINNY_FEATURES,\n",
    "    dataset_name=DATA_REGRESSION,\n",
    "    input_type=INPUT_TYPE,\n",
    "    n_reps=N_REPS\n",
    ")\n",
    "\n",
    "# Due to extreme high runtime, the CPU benchmark \n",
    "# is disabled. Use run_cpu=True to re-enable. \n",
    "\n",
    "execute_benchmark(\"SVR-Linear\", runner, run_cpu=False)\n",
    "print(datetime.datetime.now())\n"
   ]
  },
  {
   "cell_type": "markdown",
   "metadata": {},
   "source": [
    "### SVR - RBF Kernel<a id=\"svr_rbf_kernel\"/>"
   ]
  },
  {
   "cell_type": "code",
   "execution_count": 30,
   "metadata": {},
   "outputs": [
    {
     "name": "stdout",
     "output_type": "stream",
     "text": [
      "SVR-RBF (n_samples=16384, n_features=32) [cpu=0.0, gpu=0.08795762062072754, speedup=0.0]\n",
      "SVR-RBF (n_samples=16384, n_features=256) [cpu=0.0, gpu=0.12298107147216797, speedup=0.0]\n",
      "SVR-RBF (n_samples=32768, n_features=32) [cpu=0.0, gpu=0.2527649402618408, speedup=0.0]\n",
      "SVR-RBF (n_samples=32768, n_features=256) [cpu=0.0, gpu=0.37483906745910645, speedup=0.0]\n",
      "SVR-RBF (n_samples=65536, n_features=32) [cpu=0.0, gpu=0.9292290210723877, speedup=0.0]\n",
      "SVR-RBF (n_samples=65536, n_features=256) [cpu=0.0, gpu=1.4472875595092773, speedup=0.0]\n",
      "2020-06-08 00:54:02.162678\n"
     ]
    }
   ],
   "source": [
    "runner = cuml.benchmark.runners.SpeedupComparisonRunner(\n",
    "    bench_rows=SMALL_ROW_SIZES, \n",
    "    bench_dims=SKINNY_FEATURES,\n",
    "    dataset_name=DATA_REGRESSION,\n",
    "    input_type=INPUT_TYPE,\n",
    "    n_reps=N_REPS\n",
    ")\n",
    "\n",
    "execute_benchmark(\"SVR-RBF\", runner, run_cpu=False)\n",
    "print(datetime.datetime.now())\n"
   ]
  },
  {
   "cell_type": "markdown",
   "metadata": {},
   "source": [
    "## Charting & Storing Results<a id=\"charting_and_storing_results\"/>"
   ]
  },
  {
   "cell_type": "markdown",
   "metadata": {},
   "source": [
    "### Convert Results to Pandas DataFrame<a id=\"convert_to_pandas\"/>"
   ]
  },
  {
   "cell_type": "code",
   "execution_count": 31,
   "metadata": {},
   "outputs": [],
   "source": [
    "%matplotlib inline"
   ]
  },
  {
   "cell_type": "code",
   "execution_count": 32,
   "metadata": {},
   "outputs": [],
   "source": [
    "df = pd.DataFrame(benchmark_results)"
   ]
  },
  {
   "cell_type": "markdown",
   "metadata": {},
   "source": [
    "### Chart Results<a id=\"chart_results\"/>"
   ]
  },
  {
   "cell_type": "code",
   "execution_count": 33,
   "metadata": {},
   "outputs": [],
   "source": [
    "def chart_single_algo_speedup(df, algorithm):\n",
    "    df = df.loc[df.algo == algorithm]\n",
    "    df = df.pivot(index=\"n_samples\", columns=\"n_features\", values=\"speedup\")\n",
    "    axes = df.plot.bar(title=\"%s Speedup\" % algorithm)"
   ]
  },
  {
   "cell_type": "code",
   "execution_count": 34,
   "metadata": {},
   "outputs": [],
   "source": [
    "def chart_all_algo_speedup(df):\n",
    "    df = df[[\"algo\", \"n_samples\", \"speedup\"]].groupby([\"algo\", \"n_samples\"]).mean()\n",
    "    df.plot.bar()"
   ]
  },
  {
   "cell_type": "code",
   "execution_count": 35,
   "metadata": {},
   "outputs": [
    {
     "data": {
      "image/png": "[encoded data removed]",
      "text/plain": [
       "<Figure size 432x288 with 1 Axes>"
      ]
     },
     "metadata": {
      "needs_background": "light"
     },
     "output_type": "display_data"
    }
   ],
   "source": [
    "chart_single_algo_speedup(df, \"LinearRegression\")"
   ]
  },
  {
   "cell_type": "code",
   "execution_count": 36,
   "metadata": {},
   "outputs": [
    {
     "data": {
      "image/png": "[encoded data removed]",
      "text/plain": [
       "<Figure size 432x288 with 1 Axes>"
      ]
     },
     "metadata": {
      "needs_background": "light"
     },
     "output_type": "display_data"
    }
   ],
   "source": [
    "chart_all_algo_speedup(df)"
   ]
  },
  {
   "cell_type": "markdown",
   "metadata": {},
   "source": [
    "### Output Results to CSV<a id=\"output_csv\"/>"
   ]
  },
  {
   "cell_type": "code",
   "execution_count": 37,
   "metadata": {},
   "outputs": [],
   "source": [
    "df.to_csv(\"benchmark_results.csv\")"
   ]
  }
 ],
 "metadata": {
  "kernelspec": {
   "display_name": "Python 3",
   "language": "python",
   "name": "python3"
  },
  "language_info": {
   "codemirror_mode": {
    "name": "ipython",
    "version": 3
   },
   "file_extension": ".py",
   "mimetype": "text/x-python",
   "name": "python",
   "nbconvert_exporter": "python",
   "pygments_lexer": "ipython3",
   "version": "3.8.3"
  }
 },
 "nbformat": 4,
 "nbformat_minor": 4
}
